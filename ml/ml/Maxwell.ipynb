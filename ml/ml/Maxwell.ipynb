{
 "cells": [
  {
   "cell_type": "code",
   "execution_count": 1,
   "metadata": {},
   "outputs": [],
   "source": [
    "import numpy as np\n",
    "import matplotlib.pyplot as plt"
   ]
  },
  {
   "cell_type": "code",
   "execution_count": 6,
   "metadata": {},
   "outputs": [
    {
     "data": {
      "text/plain": [
       "array([-2.5450238 , -1.22328527, -1.40159254, ...,  1.29938187,\n",
       "        0.69484016,  1.76839642])"
      ]
     },
     "execution_count": 6,
     "metadata": {},
     "output_type": "execute_result"
    }
   ],
   "source": [
    "X = np.random.randn(10000) ; X"
   ]
  },
  {
   "cell_type": "code",
   "execution_count": 7,
   "metadata": {},
   "outputs": [
    {
     "data": {
      "text/plain": [
       "(array([  3.,   1.,   2.,   6.,   7.,  11.,  23.,  32.,  42.,  55.,  71.,\n",
       "        116., 133., 185., 203., 281., 329., 376., 441., 479., 485., 557.,\n",
       "        517., 627., 612., 591., 551., 525., 473., 400., 386., 305., 276.,\n",
       "        212., 162., 144., 123.,  74.,  70.,  37.,  25.,  19.,  13.,   7.,\n",
       "          7.,   1.,   4.,   0.,   0.,   1.]),\n",
       " array([-3.59646521, -3.4458772 , -3.29528919, -3.14470118, -2.99411317,\n",
       "        -2.84352516, -2.69293715, -2.54234914, -2.39176113, -2.24117312,\n",
       "        -2.09058511, -1.9399971 , -1.78940909, -1.63882108, -1.48823307,\n",
       "        -1.33764506, -1.18705705, -1.03646904, -0.88588103, -0.73529302,\n",
       "        -0.58470501, -0.434117  , -0.283529  , -0.13294099,  0.01764702,\n",
       "         0.16823503,  0.31882304,  0.46941105,  0.61999906,  0.77058707,\n",
       "         0.92117508,  1.07176309,  1.2223511 ,  1.37293911,  1.52352712,\n",
       "         1.67411513,  1.82470314,  1.97529115,  2.12587916,  2.27646717,\n",
       "         2.42705518,  2.57764319,  2.7282312 ,  2.87881921,  3.02940722,\n",
       "         3.17999523,  3.33058324,  3.48117125,  3.63175926,  3.78234727,\n",
       "         3.93293528]),\n",
       " <a list of 50 Patch objects>)"
      ]
     },
     "execution_count": 7,
     "metadata": {},
     "output_type": "execute_result"
    },
    {
     "data": {
      "image/png": "[encoded data removed]",
      "text/plain": [
       "<Figure size 432x288 with 1 Axes>"
      ]
     },
     "metadata": {
      "needs_background": "light"
     },
     "output_type": "display_data"
    }
   ],
   "source": [
    "plt.hist(X, bins=50)"
   ]
  },
  {
   "cell_type": "code",
   "execution_count": 8,
   "metadata": {},
   "outputs": [],
   "source": [
    "Y = np.random.randn(10000)\n",
    "Z = np.random.randn(10000)"
   ]
  },
  {
   "cell_type": "code",
   "execution_count": 9,
   "metadata": {},
   "outputs": [
    {
     "data": {
      "text/plain": [
       "(array([  3.,   3.,   5.,   6.,  15.,  10.,  14.,  15.,  37.,  47.,  69.,\n",
       "         83., 108., 153., 182., 236., 225., 290., 344., 420., 421., 469.,\n",
       "        550., 534., 550., 549., 570., 559., 532., 484., 420., 369., 360.,\n",
       "        275., 249., 198., 165., 138., 108.,  58.,  58.,  41.,  26.,  17.,\n",
       "         14.,   8.,   5.,   6.,   0.,   2.]),\n",
       " array([-3.62616558, -3.4824322 , -3.33869882, -3.19496544, -3.05123206,\n",
       "        -2.90749868, -2.7637653 , -2.62003192, -2.47629854, -2.33256516,\n",
       "        -2.18883178, -2.0450984 , -1.90136502, -1.75763164, -1.61389826,\n",
       "        -1.47016488, -1.3264315 , -1.18269812, -1.03896474, -0.89523136,\n",
       "        -0.75149798, -0.6077646 , -0.46403122, -0.32029784, -0.17656446,\n",
       "        -0.03283108,  0.1109023 ,  0.25463568,  0.39836906,  0.54210244,\n",
       "         0.68583582,  0.8295692 ,  0.97330258,  1.11703596,  1.26076934,\n",
       "         1.40450272,  1.5482361 ,  1.69196948,  1.83570286,  1.97943624,\n",
       "         2.12316962,  2.266903  ,  2.41063638,  2.55436976,  2.69810314,\n",
       "         2.84183652,  2.9855699 ,  3.12930328,  3.27303666,  3.41677004,\n",
       "         3.56050342]),\n",
       " <a list of 50 Patch objects>)"
      ]
     },
     "execution_count": 9,
     "metadata": {},
     "output_type": "execute_result"
    },
    {
     "data": {
      "image/png": "[encoded data removed]",
      "text/plain": [
       "<Figure size 432x288 with 1 Axes>"
      ]
     },
     "metadata": {
      "needs_background": "light"
     },
     "output_type": "display_data"
    }
   ],
   "source": [
    "plt.hist(Y, bins=50)"
   ]
  },
  {
   "cell_type": "code",
   "execution_count": 10,
   "metadata": {},
   "outputs": [],
   "source": [
    "V2 = X**2+Y**2+Z**2"
   ]
  },
  {
   "cell_type": "code",
   "execution_count": 14,
   "metadata": {},
   "outputs": [
    {
     "data": {
      "text/plain": [
       "(array([285., 467., 543., 550., 566., 530., 523., 517., 485., 446., 444.,\n",
       "        396., 360., 341., 329., 312., 262., 244., 212., 222., 207., 186.,\n",
       "        129., 144., 124., 133.,  96.,  86.,  83.,  74.,  68.,  74.,  57.,\n",
       "         57.,  41.,  42.,  29.,  36.,  26.,  24.,  16.,  19.,  26.,  20.,\n",
       "         22.,  15.,  16.,  15.,  14.,  12.,   7.,   6.,   6.,   8.,   6.,\n",
       "          5.,   2.,   7.,   5.,   5.,   2.,   1.,   1.,   1.,   2.,   1.,\n",
       "          1.,   2.,   1.,   1.,   2.,   0.,   0.,   0.,   0.,   0.,   0.,\n",
       "          0.,   0.,   0.,   0.,   0.,   0.,   0.,   0.,   1.,   0.,   0.,\n",
       "          0.,   1.,   0.,   0.,   0.,   0.,   0.,   0.,   0.,   0.,   0.,\n",
       "          1.]),\n",
       " array([3.11621140e-05, 2.42753362e-03, 4.82390513e-03, 7.22027663e-03,\n",
       "        9.61664814e-03, 1.20130196e-02, 1.44093912e-02, 1.68057627e-02,\n",
       "        1.92021342e-02, 2.15985057e-02, 2.39948772e-02, 2.63912487e-02,\n",
       "        2.87876202e-02, 3.11839917e-02, 3.35803632e-02, 3.59767347e-02,\n",
       "        3.83731062e-02, 4.07694777e-02, 4.31658492e-02, 4.55622207e-02,\n",
       "        4.79585923e-02, 5.03549638e-02, 5.27513353e-02, 5.51477068e-02,\n",
       "        5.75440783e-02, 5.99404498e-02, 6.23368213e-02, 6.47331928e-02,\n",
       "        6.71295643e-02, 6.95259358e-02, 7.19223073e-02, 7.43186788e-02,\n",
       "        7.67150503e-02, 7.91114218e-02, 8.15077933e-02, 8.39041649e-02,\n",
       "        8.63005364e-02, 8.86969079e-02, 9.10932794e-02, 9.34896509e-02,\n",
       "        9.58860224e-02, 9.82823939e-02, 1.00678765e-01, 1.03075137e-01,\n",
       "        1.05471508e-01, 1.07867880e-01, 1.10264251e-01, 1.12660623e-01,\n",
       "        1.15056994e-01, 1.17453366e-01, 1.19849737e-01, 1.22246109e-01,\n",
       "        1.24642480e-01, 1.27038852e-01, 1.29435223e-01, 1.31831595e-01,\n",
       "        1.34227967e-01, 1.36624338e-01, 1.39020710e-01, 1.41417081e-01,\n",
       "        1.43813453e-01, 1.46209824e-01, 1.48606196e-01, 1.51002567e-01,\n",
       "        1.53398939e-01, 1.55795310e-01, 1.58191682e-01, 1.60588053e-01,\n",
       "        1.62984425e-01, 1.65380796e-01, 1.67777168e-01, 1.70173539e-01,\n",
       "        1.72569911e-01, 1.74966282e-01, 1.77362654e-01, 1.79759025e-01,\n",
       "        1.82155397e-01, 1.84551768e-01, 1.86948140e-01, 1.89344511e-01,\n",
       "        1.91740883e-01, 1.94137254e-01, 1.96533626e-01, 1.98929997e-01,\n",
       "        2.01326369e-01, 2.03722740e-01, 2.06119112e-01, 2.08515483e-01,\n",
       "        2.10911855e-01, 2.13308226e-01, 2.15704598e-01, 2.18100969e-01,\n",
       "        2.20497341e-01, 2.22893712e-01, 2.25290084e-01, 2.27686455e-01,\n",
       "        2.30082827e-01, 2.32479198e-01, 2.34875570e-01, 2.37271941e-01,\n",
       "        2.39668313e-01]),\n",
       " <a list of 100 Patch objects>)"
      ]
     },
     "execution_count": 14,
     "metadata": {},
     "output_type": "execute_result"
    },
    {
     "data": {
      "image/png": "[encoded data removed]",
      "text/plain": [
       "<Figure size 432x288 with 1 Axes>"
      ]
     },
     "metadata": {
      "needs_background": "light"
     },
     "output_type": "display_data"
    }
   ],
   "source": [
    "plt.hist(V2/100, bins=100)"
   ]
  },
  {
   "cell_type": "code",
   "execution_count": null,
   "metadata": {},
   "outputs": [],
   "source": []
  }
 ],
 "metadata": {
  "kernelspec": {
   "display_name": "Python 3",
   "language": "python",
   "name": "python3"
  },
  "language_info": {
   "codemirror_mode": {
    "name": "ipython",
    "version": 3
   },
   "file_extension": ".py",
   "mimetype": "text/x-python",
   "name": "python",
   "nbconvert_exporter": "python",
   "pygments_lexer": "ipython3",
   "version": "3.6.9"
  }
 },
 "nbformat": 4,
 "nbformat_minor": 4
}
